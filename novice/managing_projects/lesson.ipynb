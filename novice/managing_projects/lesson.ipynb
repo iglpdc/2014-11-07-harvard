{
 "metadata": {
  "name": "",
  "signature": "sha256:a9888aba85abf42651006433051e8e2128b5983da52ee63f612f972fb45aed02"
 },
 "nbformat": 3,
 "nbformat_minor": 0,
 "worksheets": [
  {
   "cells": [
    {
     "cell_type": "heading",
     "level": 1,
     "metadata": {},
     "source": [
      "Guide for organizing scientific projects"
     ]
    },
    {
     "cell_type": "markdown",
     "metadata": {},
     "source": [
      "One of the challenges scientists face daily is how to organize and keep track of complex research projects. In this lesson, we'll see how to apply the skills you learnt in the workshop to organize a scientific project and produce reproducible results.\n",
      "\n",
      "This lesson is based on [this paper](http://www.ploscompbiol.org/article/info%3Adoi%2F10.1371%2Fjournal.pcbi.1000424#pcbi.1000424-Baxter1).\n",
      "\n",
      "[This paper](http://www.nature.com/ismej/journal/v7/n3/full/ismej2012123a.html) and [this other](http://www.nature.com/news/interactive-notebooks-sharing-the-code-1.16261) are good examples of what you can achieve."
     ]
    },
    {
     "cell_type": "heading",
     "level": 2,
     "metadata": {},
     "source": [
      "Best practices"
     ]
    },
    {
     "cell_type": "markdown",
     "metadata": {},
     "source": [
      "- Use a standard directory layout\n",
      "- Use version control as much as you can\n",
      "- Automate as much as you can\n",
      "- Document each folder's contents in a ``README.md`` file\n",
      "- Document procedures in notebooks"
     ]
    },
    {
     "cell_type": "heading",
     "level": 2,
     "metadata": {},
     "source": [
      "Organizing your files"
     ]
    },
    {
     "cell_type": "markdown",
     "metadata": {},
     "source": [
      "Plan your project ahead and structure your directory layout accordingly. Here we will adapt the following structure:\n",
      "\n",
      "![](./journal.pcbi.1000424.g001.png)"
     ]
    },
    {
     "cell_type": "heading",
     "level": 4,
     "metadata": {},
     "source": [
      "Exercises"
     ]
    },
    {
     "cell_type": "markdown",
     "metadata": {},
     "source": [
      "1. Create a project for a clinical study to test a new drug. You have two groups of patients taking placebo or tylenol. You get a new file with inflammation data for each group evey week. The project is called ``inflammation``. Decide the folder layout and create the top folder structure. \n",
      "\n",
      "2. Add a ``README.md`` at the top level to describe the project. Use a text editor and Markdown. \n",
      "\n",
      "3. Create a local git repo and upload it to github."
     ]
    },
    {
     "cell_type": "markdown",
     "metadata": {},
     "source": [
      "Let's change to the directory (you don't need to do this in your terminal):"
     ]
    },
    {
     "cell_type": "code",
     "collapsed": false,
     "input": [
      "!pwd\n",
      "import os\n",
      "os.chdir('files/inflammation')"
     ],
     "language": "python",
     "metadata": {},
     "outputs": [
      {
       "output_type": "stream",
       "stream": "stdout",
       "text": [
        "/Users/ivan/Documents/swc/bootcamps/2014-11-07-harvard/novice/managing_projects\r\n"
       ]
      }
     ],
     "prompt_number": 1
    },
    {
     "cell_type": "heading",
     "level": 2,
     "metadata": {},
     "source": [
      "Dealing with data"
     ]
    },
    {
     "cell_type": "markdown",
     "metadata": {},
     "source": [
      "We will use the inflammation data from the python lesson. Collaborators send us the files all mixed up. Files with odd number are tylenol, even placebo. We will automate the addition of data to the project, so all files are renamed and put under version control.\n",
      "\n",
      "**Prep** \n",
      "\n",
      "Download a clean copy of [the inflammation data](http://iglpdc.github.io/2014-11-07-harvard/2014-11-07-harvard-python.zip) to your Desktop."
     ]
    },
    {
     "cell_type": "heading",
     "level": 4,
     "metadata": {},
     "source": [
      "Exercises"
     ]
    },
    {
     "cell_type": "markdown",
     "metadata": {},
     "source": [
      "Create a notebook at the top level to do exploratory work and test stuff. \n",
      "\n",
      "Using the notebook make a function that takes a file name and return a modified string. If the number of the filename is odd, return \"tylenol\", of even return \"placebo\". Write a test and a docstring for the function.\n",
      "\n",
      "~~~bash\n",
      "python assign_drug.py inflammation_1.dat\n",
      "tylenol\n",
      "python assign_drug.py inflammation_4.dat \n",
      "placebo\n",
      "~~~\n",
      "    \n",
      "*Hint* You can use slicing or the ``split()`` function for strings to have a more general code. Use ``?`` to get help in the notebook.\n",
      "    \n",
      "Make a bash script that takes a date in yyyy-mm-dd format and a filename and copies this file to a new folder 'yyyy-mm-dd' inside ``data/`` with a new name made up with the date and the type of drug. The script has only echo the commands to get this one, but run nothing:\n",
      "\n",
      "~~~bash\n",
      "bash add_data.sh 2014-11-07 inflammation_1.dat\n",
      "cp inflammation_1.dat data/2014-11-07/2014-11-07-tylenol.dat\n",
      "bash add_data.sh 2014-11-07 inflammation_2.dat\n",
      "cp inflammation_1.dat data/2014-11-07/2014-11-07-placebo.dat\n",
      "~~~\n",
      "    \n",
      "Put the script in ``bin/`` and commit.\n",
      "\n",
      "Modify the script to add and commit automatically the new file. Use ``-m`` option for commit to write a meaningful message:\n",
      "\n",
      "~~~bash\n",
      "bash add_data.sh 2014-11-07 inflammation_2.dat\n",
      "File committed to the repo: \"Add new data file for placebo on 2014-11-07\"\n",
      "~~~\n",
      "    \n",
      "Commit the script when you're done.\n",
      "\n",
      "This script won't work if the inflammation files are not in the same directory where the script is. Improve the python script to be able to use a full path for the inflammation file as the third argument. The function to strip off the filename from a full path is ``os.path.basename()``. Note that you have to import the module ``os`` to be able to use it. To figure out how to use it, run  ``help(os.path.basename())`` on the notebook.\n",
      "\n",
      "A possible implementation of the python script is:"
     ]
    },
    {
     "cell_type": "code",
     "collapsed": false,
     "input": [
      "!cat src/assign_drug.py"
     ],
     "language": "python",
     "metadata": {},
     "outputs": [
      {
       "output_type": "stream",
       "stream": "stdout",
       "text": [
        "import os \r\n",
        "import sys\r\n",
        "\r\n",
        "def assign_drug(filepath):\r\n",
        "    '''Assigns a drug to a filename '''\r\n",
        "    filename = os.path.basename(filepath)\r\n",
        "    number = filename[13:-4]\r\n",
        "    # the above line is error-prone: say someone misspells inflammation so it\r\n",
        "    # has less that 13 characters...\r\n",
        "    # A more robust funtion uses the Python's split() function for strings:\r\n",
        "    #\r\n",
        "    # filename_without_ext = filename.split('.')[0]\r\n",
        "    # number = filename_without_ext.split('_')[1]\r\n",
        "    result = ''\r\n",
        "    if (int(number) % 2) == 1:\r\n",
        "        result = 'tylenol'\r\n",
        "    else:\r\n",
        "        result = 'placebo'\r\n",
        "    return result\r\n",
        "\r\n",
        "\r\n",
        "filename = sys.argv[1] \r\n",
        "print assign_drug(filename)\r\n",
        "    \r\n",
        "assert assign_drug(\"inflammation_1.dat\") == \"tylenol\" \r\n",
        "assert assign_drug(\"inflammation_4.dat\") == \"placebo\" \r\n",
        "assert assign_drug(\"inflammation_3.dat\") == \"tylenol\"\r\n",
        "# test for numbers starting with zeroes\r\n",
        "assert assign_drug(\"inflammation_04.dat\") == \"placebo\" \r\n",
        "# test for full paths\r\n",
        "assert assign_drug(\"/somewhere/in/your/disk/inflammation_03.dat\") == \"tylenol\"\r\n"
       ]
      }
     ],
     "prompt_number": 2
    },
    {
     "cell_type": "markdown",
     "metadata": {},
     "source": [
      "A possible implementation of the bash script is:"
     ]
    },
    {
     "cell_type": "code",
     "collapsed": false,
     "input": [
      "!cat src/add_data.sh"
     ],
     "language": "python",
     "metadata": {},
     "outputs": [
      {
       "output_type": "stream",
       "stream": "stdout",
       "text": [
        "DRUG=$(python assign_drug.py $2)\r\n",
        "DEST=$3/$1/$1-$DRUG.dat\r\n",
        "mkdir -p $3/$1\r\n",
        "cp $2 $DEST\r\n",
        "git add $DEST\r\n",
        "MSG=\"Add file $DEST\"\r\n",
        "git commit -m \"'$MSG'\"\r\n",
        "echo \"New file added to the repo: $DEST\"\r\n"
       ]
      }
     ],
     "prompt_number": 3
    },
    {
     "cell_type": "markdown",
     "metadata": {},
     "source": [
      "Let's add four files pretending is data for the two days of the workshop:"
     ]
    },
    {
     "cell_type": "markdown",
     "metadata": {},
     "source": [
      "    src/add_data.sh 2014-11-07 ~/Desktop/inflammation_01.cvs data\n",
      "    src/add_data.sh 2014-11-07 ~/Desktop/inflammation_02.cvs data\n",
      "    src/add_data.sh 2014-11-08 ~/Desktop/inflammation_03.cvs data\n",
      "    src/add_data.sh 2014-11-08 ~/Desktop/inflammation_04.cvs data\n",
      "    \n",
      "Now:    "
     ]
    },
    {
     "cell_type": "code",
     "collapsed": false,
     "input": [
      "!ls data/*\n",
      "!pwd"
     ],
     "language": "python",
     "metadata": {},
     "outputs": [
      {
       "output_type": "stream",
       "stream": "stdout",
       "text": [
        "data/2014-11-07:\r\n",
        "2014-11-07-placebo.dat 2014-11-07-tylenol.dat\r\n",
        "\r\n",
        "data/2014-11-08:\r\n",
        "2014-11-08-placebo.dat 2014-11-08-tylenol.dat\r\n"
       ]
      },
      {
       "output_type": "stream",
       "stream": "stdout",
       "text": [
        "/Users/ivan/Documents/swc/bootcamps/2014-11-07-harvard/novice/managing_projects/files/inflammation\r\n"
       ]
      }
     ],
     "prompt_number": 4
    },
    {
     "cell_type": "markdown",
     "metadata": {},
     "source": [
      "You repo should look something like this:\n",
      "\n",
      "~~~bash\n",
      "git log --graph --decorate --pretty=oneline --abbrev-commit\n",
      "    \n",
      "* e22c112 (HEAD, origin/master, master)Add file ../data/2014-11-07/2014-11-08-tylenol.dat\n",
      "* 01a2a88 Add file ../data/2014-11-07/2014-11-08-placebo.dat\n",
      "* a78b89f Add file ../data/2014-11-07/2014-11-07-tylenol.dat\n",
      "* aec9768 Add file ../data/2014-11-07/2014-11-07-placebo.dat\n",
      "* 79e8824 Add bash script to add data.\n",
      "* 0d00f07 Add documentation to function.\n",
      "* 5e5f0c0 Add script to assing drug\n",
      "* 9acf832 Add gitignore\n",
      "* 667808b Add script to assign drug\n",
      "* ac1ab14 Initial commit\n",
      "~~~"
     ]
    },
    {
     "cell_type": "heading",
     "level": 2,
     "metadata": {},
     "source": [
      "Dealing with code"
     ]
    },
    {
     "cell_type": "markdown",
     "metadata": {},
     "source": [
      "Let's use the code we created yesterday to analyze the inflammation data. Copy the code into your scratch notebook."
     ]
    },
    {
     "cell_type": "code",
     "collapsed": false,
     "input": [
      "%matplotlib inline\n",
      "import numpy as np\n",
      "from matplotlib import pyplot as plt\n",
      "\n",
      "data = np.loadtxt(fname='inflammation-01.csv', delimiter=',')\n",
      "\n",
      "plt.figure(figsize=(10.0, 3.0))\n",
      "\n",
      "plt.subplot(1, 3, 1)\n",
      "plt.ylabel('average')\n",
      "plt.plot(data.mean(0))\n",
      "\n",
      "plt.subplot(1, 3, 2)\n",
      "plt.ylabel('max')\n",
      "plt.plot(data.max(0))\n",
      "\n",
      "plt.subplot(1, 3, 3)\n",
      "plt.ylabel('min')\n",
      "plt.plot(data.min(0))\n",
      "\n",
      "plt.tight_layout()\n",
      "plt.show()"
     ],
     "language": "python",
     "metadata": {},
     "outputs": [
      {
       "metadata": {},
       "output_type": "display_data",
       "png": "[encoded data removed]",
       "text": [
        "<matplotlib.figure.Figure at 0x105092510>"
       ]
      }
     ],
     "prompt_number": 5
    },
    {
     "cell_type": "markdown",
     "metadata": {},
     "source": [
      "##### Prep\n",
      "\n",
      "- run the scratch notebook and get sure all works. A good idea is to stop/restart the kernel before  to clean up what's in the notebook's memory (see the \"Kernel\" tab on the notebook toolbar).\n",
      "- run all the cells"
     ]
    },
    {
     "cell_type": "markdown",
     "metadata": {},
     "source": [
      "####\u00a0Exercise \n",
      "\n",
      "Modify the code to make function called analyze that takes a date in yyyy-mm-dd format and saves the plot as a pdf file into the results folder. Apart for saving the file, the function should print a message."
     ]
    },
    {
     "cell_type": "markdown",
     "metadata": {},
     "source": [
      "~~~bash\n",
      "analyze_inflammation(2014-11-07-tylenol.dat)\n",
      "Plotting result in ./result/2014-11-07-tylenol.pdf   \n",
      "~~~"
     ]
    },
    {
     "cell_type": "markdown",
     "metadata": {},
     "source": [
      "A possible implementation is:"
     ]
    },
    {
     "cell_type": "code",
     "collapsed": false,
     "input": [
      "import os\n",
      "import numpy as np\n",
      "from matplotlib import pyplot as plt\n",
      "\n",
      "def make_filename_for_plot(filename):\n",
      "    '''Makes a filename for the plot given the data filename\n",
      "    \n",
      "    Parameters\n",
      "    ----------\n",
      "        filename: str\n",
      "             Path to the file for data to analyze. Can be relative or absolute.\n",
      "    '''    \n",
      "    filename = os.path.abspath(filename)\n",
      "    plot_filename = os.path.basename(filename)[:-4] + '.pdf'\n",
      "    data_dir = os.path.dirname(os.path.dirname(os.path.abspath(filename)))\n",
      "    results_dir = os.path.join(os.path.dirname(data_dir), 'results')\n",
      "    return os.path.join(results_dir, plot_filename)\n",
      "\n",
      "def analyze_inflammation(filename):\n",
      "    '''Makes a plot of average, min, and max\n",
      "    \n",
      "    Parameters\n",
      "    ----------\n",
      "        filename: str\n",
      "             Path to the file for data to analyze. Can be relative or absolute.\n",
      "    '''\n",
      "    filename = os.path.abspath(filename)\n",
      "    data = np.loadtxt(fname=filename, delimiter=',')\n",
      "\n",
      "    plt.figure(figsize=(10.0, 3.0))\n",
      "\n",
      "    plt.subplot(1, 3, 1)\n",
      "    plt.ylabel('average')\n",
      "    plt.plot(data.mean(0))\n",
      "\n",
      "    plt.subplot(1, 3, 2)\n",
      "    plt.ylabel('max')\n",
      "    plt.plot(data.max(0))\n",
      "\n",
      "    plt.subplot(1, 3, 3)\n",
      "    plt.ylabel('min')\n",
      "    plt.plot(data.min(0))\n",
      "\n",
      "    plt.tight_layout()\n",
      "    \n",
      "    filename_for_plot = make_filename_for_plot(filename)\n",
      "    plt.savefig(filename_for_plot)\n",
      "    \n",
      "    print('Plotting result in ' + filename_for_plot)\n",
      "    \n",
      "analyze_inflammation('data/2014-11-07/2014-11-07-tylenol.dat')"
     ],
     "language": "python",
     "metadata": {},
     "outputs": [
      {
       "output_type": "stream",
       "stream": "stdout",
       "text": [
        "Plotting result in /Users/ivan/Documents/swc/bootcamps/2014-11-07-harvard/novice/managing_projects/files/inflammation/results/2014-11-07-tylenol.pdf\n"
       ]
      },
      {
       "metadata": {},
       "output_type": "display_data",
       "png": "[encoded data removed]",
       "text": [
        "<matplotlib.figure.Figure at 0x1054f4dd0>"
       ]
      }
     ],
     "prompt_number": 7
    },
    {
     "cell_type": "heading",
     "level": 3,
     "metadata": {},
     "source": [
      "Making a script out of a notebook"
     ]
    },
    {
     "cell_type": "markdown",
     "metadata": {},
     "source": [
      "\n",
      "You can save the notebook as a python script that we can run from the terminal. From the terminal run:\n",
      "\n",
      "~~~bash\n",
      "ipython nbconvert --to python scratch.ipynb\n",
      "~~~\n",
      "\n",
      "Check out that a new file was created:\n",
      "\n",
      "~~~bash\n",
      "ls src/*.py\n",
      "~~~\n",
      "    \n",
      "Rename the script to ``analyze_inflammation.py`` and commit.\n"
     ]
    },
    {
     "cell_type": "heading",
     "level": 3,
     "metadata": {},
     "source": [
      "Python script with arguments"
     ]
    },
    {
     "cell_type": "markdown",
     "metadata": {},
     "source": [
      "The script above is not ready to take arguments from the command line."
     ]
    },
    {
     "cell_type": "heading",
     "level": 4,
     "metadata": {},
     "source": [
      "Exercises"
     ]
    },
    {
     "cell_type": "markdown",
     "metadata": {},
     "source": [
      "Modify the code to take an argument to analyze the data for a particular date and saves the plot into results.\n",
      "\n",
      "~~~bash\n",
      "python analyze_inflammation.py ./data/2014-11-07/2014-11-07-tylenol.dat\n",
      "Plotting result in ./result/2014-11-07-tylenol.pdf\n",
      "~~~"
     ]
    },
    {
     "cell_type": "heading",
     "level": 2,
     "metadata": {},
     "source": [
      "Adding a feature to your code"
     ]
    },
    {
     "cell_type": "markdown",
     "metadata": {},
     "source": [
      "Once your analysis is working, you should be careful that new code doesn't break existing code. A workflow commonly uses the branching features of git.\n",
      "\n",
      "``git`` allows you to keep several histories in parallel, called branches. The default history/branch is called ``master`` and is the only we have now in our inflammation repo. Let's add a new feature to the code: documentation for the scripts.\n",
      "\n",
      "First, let's check our repo's branches:\n",
      "\n",
      "~~~bash\n",
      "cd inflammation/src\n",
      "git branch \n",
      "* master\n",
      "~~~\n",
      "\n",
      "Create a new branch called ``document-scripts-properly``:\n",
      "\n",
      "~~~bash\n",
      "git checkout -b document-scripts-properly\n",
      "~~~\n",
      "   \n",
      "This creates and switches to a new branch 'document-scripts-properly' which has the same contents as you had in the working directory. \n",
      "\n",
      "~~~bash\n",
      "* document-scripts-properly\n",
      "  master\n",
      "~~~\n",
      "\n",
      "Let's add some documentation about the arguments of the ``analyze_inflammation-py`` script and make a couple of new commits:\n",
      "\n",
      "~~~bash\n",
      "nano analyze_inflammation.py \n",
      "git add analyze_inflammation.py \n",
      "git commit -m \"Add documentation about the script arguments\"\n",
      "nano analyze_inflammation.py \n",
      "git add analyze_inflammation.py \n",
      "git commit -m \"Add documentation about usage\"\n",
      "~~~\n",
      "    \n",
      "These two commit were made in the ``document-scripts-properly`` branch. If we need to we can go back any time to the ``master`` branch which is in the same state as when we created the ``document-scripts-properly`` branch. This allows to make changes to the code without interfering with the ``master`` branch, which is always in a good working state. After our work in the ``document-scripts-properly`` branch are finished and tested, we can incorporate the changes by merging together the two branches:\n",
      "\n",
      "~~~bash\n",
      "git checkout master\n",
      "git merge document-scripts-properly\n",
      "~~~"
     ]
    },
    {
     "cell_type": "heading",
     "level": 2,
     "metadata": {},
     "source": [
      "Reproducing the project"
     ]
    },
    {
     "cell_type": "markdown",
     "metadata": {},
     "source": [
      "Ideally, we should be able to reproduce all the results of the project as automatically as possible. One way to do this is to have a script sitting right under the project directory that just calls all the other scripts to do the analysis. \n",
      "\n",
      "``make`` is a program often use to do this. ``make`` looks for a file called ``Makefile`` in which you specify all the steps to reproduce the project and its dependencies. \n",
      "\n",
      "An simple ``Makefile`` for this project is this:"
     ]
    },
    {
     "cell_type": "code",
     "collapsed": false,
     "input": [
      "!cat Makefile"
     ],
     "language": "python",
     "metadata": {},
     "outputs": [
      {
       "output_type": "stream",
       "stream": "stdout",
       "text": [
        "analyze:\r\n",
        "\tfor i in data/*/*.dat; do python src/analyze_inflammation.py i; done;\r\n",
        "\r\n",
        "clean:\r\n",
        "\trm results/*.pdf\r\n",
        "\r\n",
        "all: clean, analyze\r\n"
       ]
      }
     ],
     "prompt_number": 8
    },
    {
     "cell_type": "markdown",
     "metadata": {},
     "source": [
      "The ``Makefile`` is divided in sections. Each section start with a word followed by a semicolon. This word is called a target. After the line with the target, you write the commands that will be executed upon calling this target. E.g, entering this command in the shell:\n",
      "\n",
      "~~~~bash\n",
      "make analyze\n",
      "~~~\n",
      "\n",
      "will execute to:\n",
      "\n",
      "~~~bash\n",
      "for i in data/*/*.dat; do python src/analyze_inflammation.py i; done;\n",
      "~~~\n",
      "\n",
      "Targets can have dependencies, so when such target is called, its dependencies are executed. E.g.:\n",
      "\n",
      "~~~bash\n",
      "make all\n",
      "~~~\n",
      "\n",
      "will expand to:\n",
      "\n",
      "~~~bash\n",
      "rm results/*.pdf \n",
      "for i in data/*/*.dat; do python src/analyze_inflammation.py i; done;\n",
      "~~~\n",
      "\n",
      "Therefore, to reproduce the results of this project from scratch in any computer we need to enter only two commands in the shell:\n",
      "\n",
      "~~~bash\n",
      "git clone [URL from Github] .\n",
      "make all\n",
      "~~~\n",
      "\n",
      "\n",
      "\n",
      "\n",
      "\n"
     ]
    },
    {
     "cell_type": "heading",
     "level": 2,
     "metadata": {},
     "source": [
      "Running your code in Odyssey"
     ]
    },
    {
     "cell_type": "markdown",
     "metadata": {},
     "source": [
      "#### Clone your repo to the cluster\n",
      "\n",
      "~~~bash\n",
      "ssh iglpdc@login.rc.fas.harvard.edu\n",
      "mkdir inflammation\n",
      "cd inflammation\n",
      "git clone [clone link from Github] .\n",
      "~~~\n",
      "    \n",
      "Note the dot at the end of the last command.\n",
      "    \n",
      "#### Get an interactive session\n",
      "\n",
      "The login node shouldn't be used to run computation, so let's move to a computing node. Note that our home folder gets mounted there automatically, i.e. no need to clone the repo again in the node.\n",
      "\n",
      "~~~bash\n",
      "srun --pty --mem=4000 -t 0-6:00 -p interact /bin/bash\n",
      "~~~\n",
      "    \n",
      "Make note of hostname that appears in the prompt after the ``@`` symbol (e.g. holy2a18304). The computing nodes do not include much software and we have to manually \"install\" python using these commands.\n",
      "\n",
      "~~~bash    \n",
      "source new-modules.sh\n",
      "module load python\n",
      "~~~\n",
      "\n",
      "You should be able to run python and IPython now in the command line. Try with:\n",
      "\n",
      "~~~bash\n",
      "ipython --version\n",
      "~~~\n",
      "\n",
      "#### Run a notebook in the cluster, interact with it from your laptop\n",
      "\n",
      "If you want to use the notebook though, you need an extra step to be able to see the notebook in your browser.\n",
      "\n",
      "##### Open another terminal\n",
      "\n",
      "~~~bash\n",
      "ssh -L 8888:holy2a18304:8888 login.rc.fas.harvard.edu\n",
      "~~~\n",
      "    \n",
      "where you instead of hostname you must use the hostname from above, e.g. holy2a18304. This just tunnels the notebook webpages from the computing node throught the login node to your laptop.\n",
      "\n",
      "##### Run the IPython notebook in the node\n",
      "\n",
      "~~~bash\n",
      "cd inflammation/src\n",
      "ipython notebook\n",
      "~~~\n",
      "    \n",
      "##### Open new web browser window in your laptop and go to http://localhost:8888\n",
      "\n",
      "You should be able to see your notebooks. Note that now the node is the computer running the calculations: your laptop is just displaying them. This a good way to do visualizations or exploratory analysis that requires more computing power than what your laptop can offer.\n",
      "\n"
     ]
    }
   ],
   "metadata": {}
  }
 ]
}